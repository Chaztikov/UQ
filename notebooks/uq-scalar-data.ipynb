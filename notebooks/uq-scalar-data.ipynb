{
 "cells": [
  {
   "cell_type": "code",
   "execution_count": 1,
   "metadata": {},
   "outputs": [
    {
     "name": "stdout",
     "output_type": "stream",
     "text": [
      "Address of the pipe in the memory from python:  0x2d317e0\n"
     ]
    }
   ],
   "source": [
    "#! /usr/bin/python2.7\n",
    "\n",
    "'''A script that contains data concerning the pipe, discretization,\n",
    "prior- and likelihood functions. In this script the friction\n",
    "coefficient is assumed to be scalar.\n",
    "\n",
    "\n",
    "Parameters\n",
    "----------\n",
    "\n",
    "expan_coef: int\n",
    "size of friction coefficient vector\n",
    "\n",
    "uni_prior_down: float * expan_coef\n",
    "lower bound for the uniform prior\n",
    "\n",
    "uni_prior_up: float * expan_coef\n",
    "upper bound for the uniform prior\n",
    "\n",
    "initial_point_mcmc: float * expan_coef\n",
    "initial point in the MCMC sampler\n",
    "\n",
    "c_sound: float\n",
    "sound speed\n",
    "\n",
    "t_final: float\n",
    "final time\n",
    "\n",
    "x_l: float\n",
    "left boundary of the domain\n",
    "\n",
    "x_r: float\n",
    "right boundary of the domain\n",
    "\n",
    "dx: float\n",
    "mesh size\n",
    "\n",
    "boundary_eps: float\n",
    "a number for computing pressure drop at both ends of the pipe\n",
    "\n",
    "pipe_true: SemiLinSystem\n",
    "an object that represents and contains attributes of the true pipe\n",
    "\n",
    "pipe: SemiLinSystem \n",
    "an object that represents and contains attributes\n",
    "of a pipe used during MCMC for sampling\n",
    "\n",
    "'''\n",
    "\n",
    "from UQuant.SemilinearSystem import SemiLinSystem\n",
    "from bayesianinversion import MCMCBayesianInversion, PCNBayesianInversion\n",
    "\n",
    "from numpy.random import normal\n",
    "from numpy import pi, exp, dot\n",
    "from numpy import empty\n",
    "from bisect import bisect\n",
    "from math  import isnan\n",
    "\n",
    "# stochastic settings\n",
    "uni_prior_range = {\n",
    "    \"up\": [0.5],\n",
    "    \"down\": [0.05]\n",
    "}\n",
    "\n",
    "sigma_normal   = 0.05\n",
    "initial_point_mcmc = [0.15]\n",
    "expan_coef = 1\n",
    "\n",
    "# physical settings\n",
    "c_sound = 1.0\n",
    "t_final = 5.0\n",
    "x_l, x_r = [0.0, 1.0]\n",
    "dx = 0.005\n",
    "boundary_eps = 0.05\n",
    "\n",
    "# true friction coefficient\n",
    "true_friction = [0.075]\n",
    "time_ins = 20\n",
    "time_ins_fine = 100\n",
    "\n",
    "# construct and run the true pipe\n",
    "pipe_true = SemiLinSystem(c_sound, t_final, x_l, x_r, dx, expan_coef, \n",
    "                          boundary_eps)\n",
    "pipe_true.run(true_friction)\n",
    "\n",
    "y_obs_true = pipe_true.get_presure_drop(time_instance=time_ins_fine, inplace=False)\n",
    "\n",
    "y_obs_times = pipe_true.timeslices"
   ]
  },
  {
   "cell_type": "code",
   "execution_count": 2,
   "metadata": {},
   "outputs": [],
   "source": [
    "def y_obs_noisy(epsilon):\n",
    "    return normal(0.0, epsilon, time_ins_fine) + y_obs_true"
   ]
  },
  {
   "cell_type": "code",
   "execution_count": 3,
   "metadata": {},
   "outputs": [],
   "source": [
    "def PCN_MCMC_thread(kwargs):\n",
    "    '''\n",
    "    for full multi-threading: running MCMC and PCN alongside.\n",
    "    \n",
    "    kwargs: dict\n",
    "    keys: solver_name, expan_coef, epsilon, sigma_normal\n",
    "    '''\n",
    "    \n",
    "    solver_name = kwargs[\"solver_name\"]\n",
    "    expan_coef  = kwargs[\"expan_coef\"]\n",
    "    \n",
    "    beta = kwargs.get(\"beta\")\n",
    "    if not beta:\n",
    "        beta = 0.5\n",
    "\n",
    "    sigma_normal = kwargs.get(\"sigma_normal\")\n",
    "    if not sigma_normal:\n",
    "        sigma_normal = 0.25\n",
    "    \n",
    "    epsilon = kwargs.get(\"epsilon\")\n",
    "    if not epsilon:\n",
    "        epsilon = 0.25\n",
    "        \n",
    "    init_pt = initial_point_mcmc[:expan_coef]\n",
    "\n",
    "    conf = {\n",
    "        \"epsilon\": epsilon,\n",
    "        \"sigma_normal\": sigma_normal,\n",
    "        \"initial_point_mcmc\": init_pt,\n",
    "        \"uni_prior_range\": uni_prior_range,\n",
    "        \"beta\": beta,\n",
    "    }    \n",
    "    \n",
    "    if solver_name == \"MCMC\":\n",
    "        method = MCMCBayesianInversion\n",
    "    elif solver_name == \"PCN\":\n",
    "        method = PCNBayesianInversion\n",
    "    else:\n",
    "        print (\"solver_name not found\")\n",
    "        return None\n",
    "    \n",
    "    solver = method(c_sound, t_final, x_l, x_r, dx, expan_coef, boundary_eps, time_ins)\n",
    "    solver.run(conf, y_obs_noisy(epsilon), y_obs_times, max_iter=10000, burning=1000, jupyter=True)\n",
    "    \n",
    "    folder = \"/Home/varioper/hajian/UQ/results/\"\n",
    "    filename = solver_name+\"_\"+str(expan_coef)+\".dat\"\n",
    "    path = folder + filename\n",
    "    solver.sampler.write(path, write_prob=True)\n",
    "    \n",
    "    return (epsilon, solver.sampler.density_samples)"
   ]
  },
  {
   "cell_type": "code",
   "execution_count": 4,
   "metadata": {},
   "outputs": [],
   "source": [
    "import multiprocessing\n",
    "from numpy import arange\n",
    "\n",
    "ARGS = [{\"solver_name\": solver_name,\n",
    "        \"expan_coef\": expan_coef,\n",
    "        \"epsilon\": epsilon,\n",
    "        \"sigma_normal\": epsilon,\n",
    "        }\n",
    "        for solver_name in [\"MCMC\"]\n",
    "        for expan_coef in [1]\n",
    "        for epsilon in list(arange(0.1,0.5,0.05))\n",
    "        ]\n",
    "NUM_THREAD = 20"
   ]
  },
  {
   "cell_type": "code",
   "execution_count": 5,
   "metadata": {},
   "outputs": [
    {
     "name": "stdout",
     "output_type": "stream",
     "text": [
      "Address of the pipe in the memory from python:  0x2d59e90\n",
      "Address of the pipe in the memory from python:  0x2d59e90\n",
      "Address of the pipe in the memory from python:  0x2d59e90\n",
      "Address of the pipe in the memory from python:  0x2d59e90\n",
      "Address of the pipe in the memory from python:  0x2d59e90\n",
      "Address of the pipe in the memory from python:  0x2d59e90\n",
      "Address of the pipe in the memory from python:  0x2d59e90\n",
      "Address of the pipe in the memory from python:  0x2d59e90\n"
     ]
    },
    {
     "data": {
      "application/vnd.jupyter.widget-view+json": {
       "model_id": "46447b97f0c64a69b5336c26946903c6",
       "version_major": 2,
       "version_minor": 0
      },
      "text/plain": [
       "HBox(children=(IntProgress(value=0, max=10000), HTML(value=u'')))"
      ]
     },
     "metadata": {},
     "output_type": "display_data"
    },
    {
     "data": {
      "application/vnd.jupyter.widget-view+json": {
       "model_id": "4919cc5d343c49dd8acb8354e80096cc",
       "version_major": 2,
       "version_minor": 0
      },
      "text/plain": [
       "HBox(children=(IntProgress(value=0, max=10000), HTML(value=u'')))"
      ]
     },
     "metadata": {},
     "output_type": "display_data"
    },
    {
     "data": {
      "application/vnd.jupyter.widget-view+json": {
       "model_id": "4eb460641df34452a132ea6e9b5299da",
       "version_major": 2,
       "version_minor": 0
      },
      "text/plain": [
       "HBox(children=(IntProgress(value=0, max=10000), HTML(value=u'')))"
      ]
     },
     "metadata": {},
     "output_type": "display_data"
    },
    {
     "data": {
      "application/vnd.jupyter.widget-view+json": {
       "model_id": "df170ebd03c64eb38547aa328d0263d7",
       "version_major": 2,
       "version_minor": 0
      },
      "text/plain": [
       "HBox(children=(IntProgress(value=0, max=10000), HTML(value=u'')))"
      ]
     },
     "metadata": {},
     "output_type": "display_data"
    },
    {
     "data": {
      "application/vnd.jupyter.widget-view+json": {
       "model_id": "c5791c4178af4df38ef0949da7493f24",
       "version_major": 2,
       "version_minor": 0
      },
      "text/plain": [
       "HBox(children=(IntProgress(value=0, max=10000), HTML(value=u'')))"
      ]
     },
     "metadata": {},
     "output_type": "display_data"
    },
    {
     "data": {
      "application/vnd.jupyter.widget-view+json": {
       "model_id": "d6c0aa93fbfb480d958e2566c9078d76",
       "version_major": 2,
       "version_minor": 0
      },
      "text/plain": [
       "HBox(children=(IntProgress(value=0, max=10000), HTML(value=u'')))"
      ]
     },
     "metadata": {},
     "output_type": "display_data"
    },
    {
     "data": {
      "application/vnd.jupyter.widget-view+json": {
       "model_id": "60e5eff17ddb49aca8d9767036f89769",
       "version_major": 2,
       "version_minor": 0
      },
      "text/plain": [
       "HBox(children=(IntProgress(value=0, max=10000), HTML(value=u'')))"
      ]
     },
     "metadata": {},
     "output_type": "display_data"
    },
    {
     "data": {
      "application/vnd.jupyter.widget-view+json": {
       "model_id": "e78dfaafcf0f423e8f7c3bd74347438c",
       "version_major": 2,
       "version_minor": 0
      },
      "text/plain": [
       "HBox(children=(IntProgress(value=0, max=10000), HTML(value=u'')))"
      ]
     },
     "metadata": {},
     "output_type": "display_data"
    },
    {
     "name": "stdout",
     "output_type": "stream",
     "text": [
      "\n",
      "\n",
      "\n",
      "\n",
      "\n",
      "\n",
      "\n",
      "\n"
     ]
    }
   ],
   "source": [
    "pool = multiprocessing.Pool(NUM_THREAD)\n",
    "results = pool.map_async(PCN_MCMC_thread, ARGS)\n",
    "\n",
    "pool.close()\n",
    "pool.join()"
   ]
  },
  {
   "cell_type": "code",
   "execution_count": null,
   "metadata": {},
   "outputs": [],
   "source": [
    "results_list = results.get()\n",
    "post_results = []\n",
    "for epsilon, samples in results_list:\n",
    "    post_samples = [float(sample) for sample in samples]\n",
    "    post_results.append((epsilon, post_samples))"
   ]
  },
  {
   "cell_type": "code",
   "execution_count": 15,
   "metadata": {},
   "outputs": [],
   "source": [
    "import json\n",
    "OUTPUT = \"results.json\"\n",
    "with open(OUTPUT, \"w\") as fp:\n",
    "    json.dump(post_results, fp)"
   ]
  },
  {
   "cell_type": "code",
   "execution_count": 12,
   "metadata": {},
   "outputs": [
    {
     "data": {
      "image/png": "[encoded data removed]",
      "text/plain": [
       "<matplotlib.figure.Figure at 0x2b3428959a50>"
      ]
     },
     "metadata": {},
     "output_type": "display_data"
    }
   ],
   "source": [
    "import matplotlib.pyplot as plt\n",
    "\n",
    "fig = plt.figure(figsize=(15, 10))\n",
    "N_ROW = 4\n",
    "for idx, (sigma, result) in enumerate(post_results):\n",
    "    ax = fig.add_subplot(4, 4, idx+1)\n",
    "    tmp = ax.hist(result,  normed=True, bins=10, label=\"sigma: {}\".format(sigma))\n",
    "    ax.set_xlim(0, 0.15)\n",
    "    ax.set_ylim(0, 120)\n",
    "    ax.legend(loc='upper left')"
   ]
  },
  {
   "cell_type": "code",
   "execution_count": 12,
   "metadata": {},
   "outputs": [],
   "source": [
    "fig.savefig(\"/Home/varioper/hajian/UQ/results/sigma.png\")"
   ]
  },
  {
   "cell_type": "markdown",
   "metadata": {},
   "source": [
    "# Testing"
   ]
  },
  {
   "cell_type": "code",
   "execution_count": null,
   "metadata": {},
   "outputs": [],
   "source": []
  }
 ],
 "metadata": {
  "kernelspec": {
   "display_name": "Python 2",
   "language": "python",
   "name": "python2"
  },
  "language_info": {
   "codemirror_mode": {
    "name": "ipython",
    "version": 2
   },
   "file_extension": ".py",
   "mimetype": "text/x-python",
   "name": "python",
   "nbconvert_exporter": "python",
   "pygments_lexer": "ipython2",
   "version": "2.7.13"
  }
 },
 "nbformat": 4,
 "nbformat_minor": 2
}
