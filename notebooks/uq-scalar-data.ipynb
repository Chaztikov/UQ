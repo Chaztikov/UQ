{
 "cells": [
  {
   "cell_type": "code",
   "execution_count": 1,
   "metadata": {},
   "outputs": [
    {
     "name": "stdout",
     "output_type": "stream",
     "text": [
      "Address of the pipe in the memory from python:  0x179f970\n"
     ]
    }
   ],
   "source": [
    "#! /usr/bin/python2.7\n",
    "\n",
    "'''A script that contains data concerning the pipe, discretization,\n",
    "prior- and likelihood functions. In this script the friction\n",
    "coefficient is assumed to be scalar.\n",
    "\n",
    "\n",
    "Parameters\n",
    "----------\n",
    "\n",
    "expan_coef: int\n",
    "size of friction coefficient vector\n",
    "\n",
    "uni_prior_down: float * expan_coef\n",
    "lower bound for the uniform prior\n",
    "\n",
    "uni_prior_up: float * expan_coef\n",
    "upper bound for the uniform prior\n",
    "\n",
    "initial_point_mcmc: float * expan_coef\n",
    "initial point in the MCMC sampler\n",
    "\n",
    "c_sound: float\n",
    "sound speed\n",
    "\n",
    "t_final: float\n",
    "final time\n",
    "\n",
    "x_l: float\n",
    "left boundary of the domain\n",
    "\n",
    "x_r: float\n",
    "right boundary of the domain\n",
    "\n",
    "dx: float\n",
    "mesh size\n",
    "\n",
    "boundary_eps: float\n",
    "a number for computing pressure drop at both ends of the pipe\n",
    "\n",
    "pipe_true: SemiLinSystem\n",
    "an object that represents and contains attributes of the true pipe\n",
    "\n",
    "pipe: SemiLinSystem \n",
    "an object that represents and contains attributes\n",
    "of a pipe used during MCMC for sampling\n",
    "\n",
    "'''\n",
    "\n",
    "from UQuant.SemilinearSystem import SemiLinSystem\n",
    "\n",
    "from numpy.random import normal\n",
    "from numpy import pi, exp, dot\n",
    "from numpy import empty\n",
    "from bisect import bisect\n",
    "from math  import isnan\n",
    "\n",
    "# stochastic settings\n",
    "uni_prior_down = [0.05]\n",
    "uni_prior_up   = [0.5]\n",
    "\n",
    "sigma_normal   = 0.05\n",
    "initial_point_mcmc = [0.45]\n",
    "expan_coef = 1\n",
    "\n",
    "# physical settings\n",
    "c_sound = 1.0\n",
    "t_final = 5.0\n",
    "x_l, x_r = [0.0, 1.0]\n",
    "dx = 0.005\n",
    "boundary_eps = 0.05\n",
    "\n",
    "# true friction coefficient\n",
    "true_friction = [0.075]\n",
    "time_ins = 20\n",
    "time_ins_fine = 100\n",
    "\n",
    "# construct and run the true pipe\n",
    "pipe_true = SemiLinSystem(c_sound, t_final, x_l, x_r, dx, expan_coef, \n",
    "                          boundary_eps)\n",
    "pipe_true.run(true_friction)\n",
    "\n",
    "y_obs_true = pipe_true.get_presure_drop(time_instance=time_ins_fine, inplace=False)\n",
    "\n",
    "y_obs_times = pipe_true.timeslices"
   ]
  },
  {
   "cell_type": "code",
   "execution_count": 2,
   "metadata": {},
   "outputs": [],
   "source": [
    "def isclose(a, b, rel_tol=1e-06, abs_tol=0.0):\n",
    "    '''\n",
    "    check if two floats are close\n",
    "    '''\n",
    "    return abs(a-b) <= max(rel_tol * max(abs(a), abs(b)), abs_tol)\n",
    "\n",
    "def iscloselist(a, List):\n",
    "    ''' \n",
    "    check if a float is close to an element of a list\n",
    "    '''\n",
    "    for idx, item in enumerate(List):\n",
    "        if isclose(a, item):\n",
    "            return idx\n",
    "    return None"
   ]
  },
  {
   "cell_type": "code",
   "execution_count": 3,
   "metadata": {},
   "outputs": [],
   "source": [
    "class GasBayesianInversion(object):\n",
    "    '''\n",
    "    GasBayesianInversion solves a Bayesian Inverse \n",
    "    problem for Gas pipe friction coefficients.\n",
    "    '''\n",
    "    \n",
    "    def __init__(self, c_sound, t_final, x_l, x_r, dx, expan_coef, boundary_eps, time_ins):\n",
    "        from UQuant.SemilinearSystem import SemiLinSystem\n",
    "    \n",
    "        self.c_sound, self.t_final = c_sound, t_final\n",
    "        \n",
    "        self.x_l, self.x_r = x_l, x_r\n",
    "        \n",
    "        self.dx, self.expan_coef, self.boundary_eps = dx, expan_coef, boundary_eps\n",
    "        \n",
    "        self.time_ins = time_ins\n",
    "        \n",
    "        self.pipe = SemiLinSystem(c_sound, t_final, x_l, x_r, dx, expan_coef, boundary_eps)\n",
    "         \n",
    "    \n",
    "    @staticmethod\n",
    "    def EvalY_obs(timeslices, y_obs, y_obs_times):\n",
    "        '''\n",
    "        evaluates a given time_instances on y_obs.\n",
    "\n",
    "        Parameters\n",
    "        ----------\n",
    "\n",
    "        time_instances: float * len(time_instances)\n",
    "\n",
    "        '''\n",
    "\n",
    "        out = empty(len(timeslices), dtype=float)    \n",
    "\n",
    "        for idx, time in enumerate(timeslices):\n",
    "            inList = iscloselist(time, y_obs_times)\n",
    "            if inList!=None:\n",
    "                out[idx] = y_obs[inList]\n",
    "            else:\n",
    "                right = bisect(y_obs_times, time)\n",
    "                left  = right - 1\n",
    "                if left < 0:\n",
    "                    out[idx] = y_obs[right]\n",
    "                elif right >= len(y_obs_times):\n",
    "                    out[idx] = y_obs[left]\n",
    "                else:\n",
    "                    out[idx] = 0.5*(y_obs[right]+y_obs[left])\n",
    "        return out\n",
    "\n",
    "    def uni_prior(self, x):\n",
    "        '''\n",
    "        uniform prior\n",
    "\n",
    "        Parameters\n",
    "        ----------\n",
    "\n",
    "        x: float * len(x)\n",
    "        '''\n",
    "\n",
    "        volume = 1.0\n",
    "\n",
    "        for i in range(len(x)):\n",
    "            volume *= abs(uni_prior_up[i] - uni_prior_down[i])\n",
    "\n",
    "        normalize = 1.0 / volume\n",
    "\n",
    "        for i in range(len(x)):\n",
    "            if ( ((x[i]<uni_prior_up[i]) & (x[i]>uni_prior_down[i]))==False ):\n",
    "                return 0.0\n",
    "\n",
    "        return normalize\n",
    "\n",
    "    def proposal_density(self, new, old):\n",
    "        '''\n",
    "        proposal density function\n",
    "\n",
    "        Parameters\n",
    "        ----------\n",
    "        new: float * len(new)\n",
    "\n",
    "        old: float * len(old)\n",
    "        '''\n",
    "\n",
    "        length = len(new)\n",
    "\n",
    "        out = empty(length, dtype=float)\n",
    "\n",
    "        for i in range(length):\n",
    "            out[i] = 1.0/(2*pi*sigma_normal**2) * \\\n",
    "                     exp( -0.5*(new[i] - old[i])**2 / sigma_normal**2 )\n",
    "\n",
    "        return out\n",
    "\n",
    "    def draw_from_proposal(self, old):\n",
    "        '''\n",
    "        draw from the proposal\n",
    "\n",
    "        Parameters\n",
    "        ----------\n",
    "        old: float * len(old)\n",
    "        '''\n",
    "        return normal(old, sigma_normal, size=len(old))\n",
    "\n",
    "    def likelihood(self, x):\n",
    "        '''\n",
    "        computes the likelihood function\n",
    "\n",
    "        Parameters\n",
    "        ----------\n",
    "\n",
    "        pipe: SemiLinSystem\n",
    "\n",
    "        x: float * len(x)\n",
    "        '''\n",
    "\n",
    "        pipe = self.pipe\n",
    "        \n",
    "        pipe.run(x, progress_bool=False)\n",
    "\n",
    "        # check if we have negative friction\n",
    "        pipe.get_current_lambda_average()\n",
    "        for i in pipe.lambda_avg:\n",
    "            if i<0: return 0.0\n",
    "\n",
    "        S = pipe.get_presure_drop(time_instance=self.time_ins, inplace=False)\n",
    "\n",
    "        Proj_y_obs = self.EvalY_obs(pipe.timeslices, self.y_obs, self.y_obs_true_times)\n",
    "\n",
    "        out = exp( -0.5 * dot(S - Proj_y_obs, S - Proj_y_obs) / self.epsilon )\n",
    "\n",
    "        #print (out, self.epsilon)\n",
    "        \n",
    "        return out\n",
    "\n",
    "    def density(self, x):\n",
    "        '''\n",
    "        density function for the MCMC: \n",
    "        multiplication of the likelihood and the prior distribution\n",
    "\n",
    "        Parameters\n",
    "        ----------\n",
    "        x: float * len(x)\n",
    "\n",
    "        '''\n",
    "        PRIOR = self.uni_prior(x)\n",
    "        if PRIOR > 10.0**-8:\n",
    "            return self.likelihood(x) * PRIOR\n",
    "        else:\n",
    "            return 0.0\n",
    "\n",
    "    def run_mcmc(self, epsilon, y_obs_true, y_obs_true_times, \n",
    "                 initial_point_mcmc, max_iter=2000, burning=500, jupyter=False):\n",
    "        '''\n",
    "        run_mcmc takes an epsilon and compute the y_obs and then run mcmc using those observations.\n",
    "\n",
    "        Returns\n",
    "        -------\n",
    "\n",
    "        samples: list\n",
    "        '''\n",
    "        from UQuant.mcmc import MCMC\n",
    "        \n",
    "        self.epsilon = epsilon\n",
    "        \n",
    "        self.y_obs = normal(0.0, epsilon, time_ins_fine) + y_obs_true\n",
    "        \n",
    "        self.y_obs_true_times = y_obs_true_times\n",
    "            \n",
    "        self.mcmc = MCMC(self.density, \n",
    "                         self.proposal_density, \n",
    "                         self.draw_from_proposal, \n",
    "                         initial_point_mcmc)\n",
    "        \n",
    "        \n",
    "        self.mcmc.run(max_iter=max_iter, burning=burning, jupyter=jupyter)"
   ]
  },
  {
   "cell_type": "code",
   "execution_count": 4,
   "metadata": {},
   "outputs": [],
   "source": [
    "def GBI_thread(epsilon):\n",
    "    '''\n",
    "    for multi-threading\n",
    "    '''\n",
    "    gbi = GasBayesianInversion(c_sound, t_final, x_l, x_r, dx, expan_coef, boundary_eps, time_ins)\n",
    "    gbi.run_mcmc(epsilon, y_obs_true, y_obs_times, initial_point_mcmc, \n",
    "                 max_iter=1500, burning=200, jupyter=True)\n",
    "    \n",
    "    return (epsilon, [pt[0] for pt in gbi.mcmc.density_samples])"
   ]
  },
  {
   "cell_type": "code",
   "execution_count": 5,
   "metadata": {},
   "outputs": [
    {
     "name": "stdout",
     "output_type": "stream",
     "text": [
      "Address of the pipe in the memory from python:  0x17db3e0\n",
      "Address of the pipe in the memory from python:  0x17db3e0\n",
      "Address of the pipe in the memory from python:  0x17db3e0\n",
      "Address of the pipe in the memory from python:  0x17db3e0\n",
      "Address of the pipe in the memory from python:  0x17db3e0\n",
      "Address of the pipe in the memory from python:  0x17db3e0\n",
      "Address of the pipe in the memory from python:  0x17db3e0\n",
      "Address of the pipe in the memory from python:  0x17db3e0\n",
      "Address of the pipe in the memory from python:  0x17db3e0\n",
      "Address of the pipe in the memory from python:  0x17db3e0\n",
      "Address of the pipe in the memory from python:  0x17db3e0\n",
      "Address of the pipe in the memory from python:  0x17db3e0\n",
      "Address of the pipe in the memory from python:  0x17db3e0\n",
      "Address of the pipe in the memory from python:  0x17db3e0\n",
      "Address of the pipe in the memory from python:  0x17db3e0\n",
      "Address of the pipe in the memory from python:  0x17db3e0\n",
      "Address of the pipe in the memory from python:  0x17db3e0\n",
      "Address of the pipe in the memory from python:  0x17db3e0\n",
      "Address of the pipe in the memory from python:  0x17db3e0\n",
      "Address of the pipe in the memory from python:  0x17db3e0\n"
     ]
    },
    {
     "data": {
      "application/vnd.jupyter.widget-view+json": {
       "model_id": "307cabfbd5f7495598a5abfefcafca50",
       "version_major": 2,
       "version_minor": 0
      },
      "text/plain": [
       "HBox(children=(IntProgress(value=0, max=1500), HTML(value=u'')))"
      ]
     },
     "metadata": {},
     "output_type": "display_data"
    },
    {
     "data": {
      "application/vnd.jupyter.widget-view+json": {
       "model_id": "d53f6cb03ab448a5b321be8886309092",
       "version_major": 2,
       "version_minor": 0
      },
      "text/plain": [
       "HBox(children=(IntProgress(value=0, max=1500), HTML(value=u'')))"
      ]
     },
     "metadata": {},
     "output_type": "display_data"
    },
    {
     "data": {
      "application/vnd.jupyter.widget-view+json": {
       "model_id": "49d816ac6207489fb9facfd2f22db7e9",
       "version_major": 2,
       "version_minor": 0
      },
      "text/plain": [
       "HBox(children=(IntProgress(value=0, max=1500), HTML(value=u'')))"
      ]
     },
     "metadata": {},
     "output_type": "display_data"
    },
    {
     "data": {
      "application/vnd.jupyter.widget-view+json": {
       "model_id": "a927e53b01aa467696d4c7235d25bd6e",
       "version_major": 2,
       "version_minor": 0
      },
      "text/plain": [
       "HBox(children=(IntProgress(value=0, max=1500), HTML(value=u'')))"
      ]
     },
     "metadata": {},
     "output_type": "display_data"
    },
    {
     "data": {
      "application/vnd.jupyter.widget-view+json": {
       "model_id": "e10fdd6dd2b642a2b75547b1b7478bde",
       "version_major": 2,
       "version_minor": 0
      },
      "text/plain": [
       "HBox(children=(IntProgress(value=0, max=1500), HTML(value=u'')))"
      ]
     },
     "metadata": {},
     "output_type": "display_data"
    },
    {
     "data": {
      "application/vnd.jupyter.widget-view+json": {
       "model_id": "08f52afa17ec41adbf8ba1b6ad1af06a",
       "version_major": 2,
       "version_minor": 0
      },
      "text/plain": [
       "HBox(children=(IntProgress(value=0, max=1500), HTML(value=u'')))"
      ]
     },
     "metadata": {},
     "output_type": "display_data"
    },
    {
     "data": {
      "application/vnd.jupyter.widget-view+json": {
       "model_id": "109738e939a64433a70d2dd6174163bf",
       "version_major": 2,
       "version_minor": 0
      },
      "text/plain": [
       "HBox(children=(IntProgress(value=0, max=1500), HTML(value=u'')))"
      ]
     },
     "metadata": {},
     "output_type": "display_data"
    },
    {
     "data": {
      "application/vnd.jupyter.widget-view+json": {
       "model_id": "85f6d9ff82134d16917715b922634a92",
       "version_major": 2,
       "version_minor": 0
      },
      "text/plain": [
       "HBox(children=(IntProgress(value=0, max=1500), HTML(value=u'')))"
      ]
     },
     "metadata": {},
     "output_type": "display_data"
    },
    {
     "data": {
      "application/vnd.jupyter.widget-view+json": {
       "model_id": "7ad6593825a34488a38c093c73dc1ad4",
       "version_major": 2,
       "version_minor": 0
      },
      "text/plain": [
       "HBox(children=(IntProgress(value=0, max=1500), HTML(value=u'')))"
      ]
     },
     "metadata": {},
     "output_type": "display_data"
    },
    {
     "data": {
      "application/vnd.jupyter.widget-view+json": {
       "model_id": "3eab063800344278be6df8cb3a4b7b2b",
       "version_major": 2,
       "version_minor": 0
      },
      "text/plain": [
       "HBox(children=(IntProgress(value=0, max=1500), HTML(value=u'')))"
      ]
     },
     "metadata": {},
     "output_type": "display_data"
    },
    {
     "data": {
      "application/vnd.jupyter.widget-view+json": {
       "model_id": "2d7047ecf1c946529754d2a79e36c43c",
       "version_major": 2,
       "version_minor": 0
      },
      "text/plain": [
       "HBox(children=(IntProgress(value=0, max=1500), HTML(value=u'')))"
      ]
     },
     "metadata": {},
     "output_type": "display_data"
    },
    {
     "data": {
      "application/vnd.jupyter.widget-view+json": {
       "model_id": "12a4bb2c9fe54cbc9e527475f5b97c3b",
       "version_major": 2,
       "version_minor": 0
      },
      "text/plain": [
       "HBox(children=(IntProgress(value=0, max=1500), HTML(value=u'')))"
      ]
     },
     "metadata": {},
     "output_type": "display_data"
    },
    {
     "data": {
      "application/vnd.jupyter.widget-view+json": {
       "model_id": "a010f6d90955435191143ec02b332d39",
       "version_major": 2,
       "version_minor": 0
      },
      "text/plain": [
       "HBox(children=(IntProgress(value=0, max=1500), HTML(value=u'')))"
      ]
     },
     "metadata": {},
     "output_type": "display_data"
    },
    {
     "data": {
      "application/vnd.jupyter.widget-view+json": {
       "model_id": "05a70a1517fc49ca98e8dcaf38674d93",
       "version_major": 2,
       "version_minor": 0
      },
      "text/plain": [
       "HBox(children=(IntProgress(value=0, max=1500), HTML(value=u'')))"
      ]
     },
     "metadata": {},
     "output_type": "display_data"
    },
    {
     "data": {
      "application/vnd.jupyter.widget-view+json": {
       "model_id": "b8272c9ce50c43b7bbdf1bf31b3e0bcf",
       "version_major": 2,
       "version_minor": 0
      },
      "text/plain": [
       "HBox(children=(IntProgress(value=0, max=1500), HTML(value=u'')))"
      ]
     },
     "metadata": {},
     "output_type": "display_data"
    },
    {
     "data": {
      "application/vnd.jupyter.widget-view+json": {
       "model_id": "2020ea9ba5284740b951e9c8249dac75",
       "version_major": 2,
       "version_minor": 0
      },
      "text/plain": [
       "HBox(children=(IntProgress(value=0, max=1500), HTML(value=u'')))"
      ]
     },
     "metadata": {},
     "output_type": "display_data"
    },
    {
     "data": {
      "application/vnd.jupyter.widget-view+json": {
       "model_id": "5580c0abafee4e16a2b68205fee9b1cd",
       "version_major": 2,
       "version_minor": 0
      },
      "text/plain": [
       "HBox(children=(IntProgress(value=0, max=1500), HTML(value=u'')))"
      ]
     },
     "metadata": {},
     "output_type": "display_data"
    },
    {
     "data": {
      "application/vnd.jupyter.widget-view+json": {
       "model_id": "546180e21cf849c49a7e1628705ad741",
       "version_major": 2,
       "version_minor": 0
      },
      "text/plain": [
       "HBox(children=(IntProgress(value=0, max=1500), HTML(value=u'')))"
      ]
     },
     "metadata": {},
     "output_type": "display_data"
    },
    {
     "data": {
      "application/vnd.jupyter.widget-view+json": {
       "model_id": "657e8b2ea3ce458ab0dfdeda77e74876",
       "version_major": 2,
       "version_minor": 0
      },
      "text/plain": [
       "HBox(children=(IntProgress(value=0, max=1500), HTML(value=u'')))"
      ]
     },
     "metadata": {},
     "output_type": "display_data"
    },
    {
     "data": {
      "application/vnd.jupyter.widget-view+json": {
       "model_id": "dd9238a19e3d4963a3497562d3b91471",
       "version_major": 2,
       "version_minor": 0
      },
      "text/plain": [
       "HBox(children=(IntProgress(value=0, max=1500), HTML(value=u'')))"
      ]
     },
     "metadata": {},
     "output_type": "display_data"
    },
    {
     "name": "stdout",
     "output_type": "stream",
     "text": [
      "\n",
      "\n",
      "\n",
      "\n",
      "\n",
      "\n",
      "\n",
      "\n",
      "\n",
      "\n",
      "\n",
      "\n",
      "\n",
      "\n",
      "\n",
      "\n",
      "\n",
      "\n",
      "\n",
      "\n"
     ]
    }
   ],
   "source": [
    "import multiprocessing\n",
    "from numpy import arange\n",
    "\n",
    "EPSILONS = list(arange(0.25, 10., 0.5))\n",
    "NUM_THREAD = 20\n",
    "pool = multiprocessing.Pool(NUM_THREAD)\n",
    "results = pool.map_async(GBI_thread, EPSILONS)\n",
    "\n",
    "pool.close()\n",
    "pool.join()"
   ]
  },
  {
   "cell_type": "code",
   "execution_count": 9,
   "metadata": {},
   "outputs": [
    {
     "data": {
      "image/png": "[encoded data removed]",
      "text/plain": [
       "<matplotlib.figure.Figure at 0x2ae931563190>"
      ]
     },
     "metadata": {},
     "output_type": "display_data"
    }
   ],
   "source": [
    "import matplotlib.pyplot as plt\n",
    "\n",
    "results_list = results.get()\n",
    "fig = plt.figure(figsize=(15, 10))\n",
    "N_ROW = 4\n",
    "for idx, (sigma, result) in enumerate(results_list[:5]):\n",
    "    ax = fig.add_subplot(N_ROW, len(results_list)//N_ROW, idx+1)\n",
    "    tmp = ax.hist(result,  normed=True, bins=40, label=\"sigma: {}\".format(sigma))\n",
    "    ax.set_xlim(uni_prior_down[0], uni_prior_up[0])\n",
    "    ax.legend(loc='upper left')"
   ]
  },
  {
   "cell_type": "code",
   "execution_count": 12,
   "metadata": {},
   "outputs": [],
   "source": [
    "fig.savefig(\"/Home/varioper/hajian/UQ/results/sigma.png\")"
   ]
  },
  {
   "cell_type": "markdown",
   "metadata": {},
   "source": [
    "# Testing"
   ]
  },
  {
   "cell_type": "code",
   "execution_count": null,
   "metadata": {},
   "outputs": [],
   "source": []
  }
 ],
 "metadata": {
  "kernelspec": {
   "display_name": "Python 2",
   "language": "python",
   "name": "python2"
  },
  "language_info": {
   "codemirror_mode": {
    "name": "ipython",
    "version": 2
   },
   "file_extension": ".py",
   "mimetype": "text/x-python",
   "name": "python",
   "nbconvert_exporter": "python",
   "pygments_lexer": "ipython2",
   "version": "2.7.13"
  }
 },
 "nbformat": 4,
 "nbformat_minor": 2
}
