{
 "cells": [
  {
   "cell_type": "code",
   "execution_count": 1,
   "metadata": {},
   "outputs": [
    {
     "name": "stdout",
     "output_type": "stream",
     "text": [
      "Address of the pipe in the memory from python:  0x1cb0670\n"
     ]
    }
   ],
   "source": [
    "'''A script to run UQ for a pipe using PCN.\n",
    "\n",
    "Parameters\n",
    "----------\n",
    "\n",
    "expan_coef: int\n",
    "size of friction coefficient vector\n",
    "\n",
    "uni_prior_down: float * expan_coef\n",
    "lower bound for the uniform prior\n",
    "\n",
    "uni_prior_up: float * expan_coef\n",
    "upper bound for the uniform prior\n",
    "\n",
    "initial_point_mcmc: float * expan_coef\n",
    "initial point in the MCMC sampler\n",
    "\n",
    "c_sound: float\n",
    "sound speed\n",
    "\n",
    "t_final: float\n",
    "final time\n",
    "\n",
    "x_l: float\n",
    "left boundary of the domain\n",
    "\n",
    "x_r: float\n",
    "right boundary of the domain\n",
    "\n",
    "dx: float\n",
    "mesh size\n",
    "\n",
    "boundary_eps: float\n",
    "a number for computing pressure drop at both ends of the pipe\n",
    "\n",
    "pipe_true: SemiLinSystem\n",
    "an object that represents and contains attributes of the true pipe\n",
    "\n",
    "pipe: SemiLinSystem \n",
    "an object that represents and contains attributes\n",
    "of a pipe used during MCMC for sampling\n",
    "\n",
    "'''\n",
    "\n",
    "from UQuant.SemilinearSystem import SemiLinSystem\n",
    "from bayesianinversion import MCMCBayesianInversion, PCNBayesianInversion\n",
    "from numpy.random import normal\n",
    "\n",
    "# build a pipe\n",
    "\n",
    "## physical settings\n",
    "c_sound = 1.0\n",
    "t_final = 5.0\n",
    "x_l, x_r = [0.0, 1.0]\n",
    "dx = 0.005\n",
    "boundary_eps = 0.05\n",
    "\n",
    "## true friction coefficient\n",
    "true_friction = [0.185938, -0.0519335, 0., 0., -0.0696583, 0.0336323, 0., 0., \\\n",
    "                 0.0348292, -0.0121076, 0., 0., -0.00773981, 0.00105987, 0., 0., 0., \\\n",
    "                 -0.000641154, 0., 0., -0.00278633, 0.00250158, 0., 0., 0.00386991, \\\n",
    "                 -0.00179107, 0., 0., -0.0014216, 0.000230816, 0., 0., 0., \\\n",
    "                 -0.000179701, 0., 0., -0.000859979, 0.000838478, 0., 0., 0.00139317]\n",
    "\n",
    "initial_point_mcmc = [0.45, 0., 0., 0., 0., 0., 0., 0., 0., 0., 0., 0., 0., 0., 0.]\n",
    "uni_prior_range = {\n",
    "    \"up\":   [0.5, 0.05, 0.05, 0.05, 0.05, 0.05, 0.05, 0.05, 0.05, 0.05, 0.05, 0.05, 0.05, 0.05, 0.05],\n",
    "    \"down\": [0.05, -.05, -.05, -.05, -.05, -.05, -.05, -.05, -.05, -.05, -.05, -.05, -.05, -.05, -.05],\n",
    "}\n",
    "\n",
    "\n",
    "true_expan_coef = len(true_friction)\n",
    "\n",
    "time_ins = 20\n",
    "time_ins_fine = 100\n",
    "\n",
    "# construct and run the true pipe\n",
    "pipe_true = SemiLinSystem(c_sound, t_final, x_l, x_r, dx, true_expan_coef, boundary_eps)\n",
    "pipe_true.run(true_friction)\n",
    "\n",
    "y_obs_true = pipe_true.get_presure_drop(time_instance=time_ins_fine, inplace=False)\n",
    "\n",
    "epsilon = 0.05\n",
    "y_obs = normal(0.0, epsilon, time_ins_fine) + y_obs_true\n",
    "y_obs_times = pipe_true.timeslices"
   ]
  },
  {
   "cell_type": "code",
   "execution_count": 2,
   "metadata": {},
   "outputs": [],
   "source": [
    "def PCN_MCMC_thread(data):\n",
    "    '''\n",
    "    for full multi-threading: running MCMC and PCN alongside.\n",
    "    '''\n",
    "    \n",
    "    solver_name, expan_coef = data\n",
    "    \n",
    "    init_pt = initial_point_mcmc[:expan_coef]\n",
    "    sigma_normal = 0.05\n",
    "\n",
    "    conf = {\n",
    "        \"epsilon\": epsilon,\n",
    "        \"sigma_normal\": sigma_normal,\n",
    "        \"initial_point_mcmc\": init_pt,\n",
    "        \"uni_prior_range\": uni_prior_range,\n",
    "    }    \n",
    "    \n",
    "    if solver_name == \"MCMC\":\n",
    "        method = MCMCBayesianInversion\n",
    "    elif solver_name == \"PCN\":\n",
    "        method = PCNBayesianInversion\n",
    "    else:\n",
    "        print (\"solver_name not found\")\n",
    "        return None\n",
    "    \n",
    "    solver = method(c_sound, t_final, x_l, x_r, dx, expan_coef, boundary_eps, time_ins)\n",
    "    solver.run(conf, y_obs, y_obs_times, max_iter=10000, burning=1000, jupyter=True)\n",
    "    return (solver_name, {expan_coef: solver.sampler.stats})"
   ]
  },
  {
   "cell_type": "code",
   "execution_count": 3,
   "metadata": {},
   "outputs": [],
   "source": [
    "import multiprocessing\n",
    "from numpy import arange\n",
    "\n",
    "EXPAN_COEF = [(method, expan_coef) for method in [\"PCN\", \"MCMC\"] for expan_coef in list(range(1,17,2))]\n",
    "NUM_THREAD = 20"
   ]
  },
  {
   "cell_type": "code",
   "execution_count": 4,
   "metadata": {},
   "outputs": [
    {
     "name": "stdout",
     "output_type": "stream",
     "text": [
      "Address of the pipe in the memory from python:  0x1bf52c0\n",
      "Address of the pipe in the memory from python:  0x1bf52c0\n",
      "Address of the pipe in the memory from python:  0x1bf52c0\n",
      "Address of the pipe in the memory from python:  0x1bf52c0\n",
      "Address of the pipe in the memory from python:  0x1bf52c0\n",
      "Address of the pipe in the memory from python:  0x1bf52c0\n",
      "Address of the pipe in the memory from python:  0x1bf52c0\n",
      "Address of the pipe in the memory from python:  0x1bf52c0\n",
      "Address of the pipe in the memory from python:  0x1bf52c0\n",
      "Address of the pipe in the memory from python:  0x1bf52c0\n",
      "Address of the pipe in the memory from python:  0x1bf52c0\n",
      "Address of the pipe in the memory from python:  0x1bf52c0\n",
      "Address of the pipe in the memory from python:  0x1bf52c0\n",
      "Address of the pipe in the memory from python:  0x1c77870\n",
      "Address of the pipe in the memory from python:  0x13d4e90\n",
      "Address of the pipe in the memory from python:  0x13d4e90\n"
     ]
    },
    {
     "data": {
      "application/vnd.jupyter.widget-view+json": {
       "model_id": "e4fac2c826b64485a2a9c3b4cd179d66",
       "version_major": 2,
       "version_minor": 0
      },
      "text/plain": [
       "HBox(children=(IntProgress(value=0, max=2000), HTML(value=u'')))"
      ]
     },
     "metadata": {},
     "output_type": "display_data"
    },
    {
     "data": {
      "application/vnd.jupyter.widget-view+json": {
       "model_id": "09114567907e4d23a2fd5b2fea3e2fdb",
       "version_major": 2,
       "version_minor": 0
      },
      "text/plain": [
       "HBox(children=(IntProgress(value=0, max=2000), HTML(value=u'')))"
      ]
     },
     "metadata": {},
     "output_type": "display_data"
    },
    {
     "data": {
      "application/vnd.jupyter.widget-view+json": {
       "model_id": "1bfc9e253e3a4bc1b1eb604ab2ad43ae",
       "version_major": 2,
       "version_minor": 0
      },
      "text/plain": [
       "HBox(children=(IntProgress(value=0, max=2000), HTML(value=u'')))"
      ]
     },
     "metadata": {},
     "output_type": "display_data"
    },
    {
     "data": {
      "application/vnd.jupyter.widget-view+json": {
       "model_id": "9586abb46529424391d602b8472d0d34",
       "version_major": 2,
       "version_minor": 0
      },
      "text/plain": [
       "HBox(children=(IntProgress(value=0, max=2000), HTML(value=u'')))"
      ]
     },
     "metadata": {},
     "output_type": "display_data"
    },
    {
     "data": {
      "application/vnd.jupyter.widget-view+json": {
       "model_id": "627f32a1194145a78748502d6581472c",
       "version_major": 2,
       "version_minor": 0
      },
      "text/plain": [
       "HBox(children=(IntProgress(value=0, max=2000), HTML(value=u'')))"
      ]
     },
     "metadata": {},
     "output_type": "display_data"
    },
    {
     "data": {
      "application/vnd.jupyter.widget-view+json": {
       "model_id": "5f7ce200e3da430fa903d91290491cc7",
       "version_major": 2,
       "version_minor": 0
      },
      "text/plain": [
       "HBox(children=(IntProgress(value=0, max=2000), HTML(value=u'')))"
      ]
     },
     "metadata": {},
     "output_type": "display_data"
    },
    {
     "data": {
      "application/vnd.jupyter.widget-view+json": {
       "model_id": "7a562b4a65dc4794b29a463a84711688",
       "version_major": 2,
       "version_minor": 0
      },
      "text/plain": [
       "HBox(children=(IntProgress(value=0, max=2000), HTML(value=u'')))"
      ]
     },
     "metadata": {},
     "output_type": "display_data"
    },
    {
     "data": {
      "application/vnd.jupyter.widget-view+json": {
       "model_id": "3360ee3b44814218b524b1ec11e9345e",
       "version_major": 2,
       "version_minor": 0
      },
      "text/plain": [
       "HBox(children=(IntProgress(value=0, max=2000), HTML(value=u'')))"
      ]
     },
     "metadata": {},
     "output_type": "display_data"
    },
    {
     "data": {
      "application/vnd.jupyter.widget-view+json": {
       "model_id": "927311f516e8426eb75e317a9feb1b98",
       "version_major": 2,
       "version_minor": 0
      },
      "text/plain": [
       "HBox(children=(IntProgress(value=0, max=2000), HTML(value=u'')))"
      ]
     },
     "metadata": {},
     "output_type": "display_data"
    },
    {
     "data": {
      "application/vnd.jupyter.widget-view+json": {
       "model_id": "476d906a032049779c0561567eec167c",
       "version_major": 2,
       "version_minor": 0
      },
      "text/plain": [
       "HBox(children=(IntProgress(value=0, max=2000), HTML(value=u'')))"
      ]
     },
     "metadata": {},
     "output_type": "display_data"
    },
    {
     "data": {
      "application/vnd.jupyter.widget-view+json": {
       "model_id": "fb37c416d5454749bb931ecc6a88abe4",
       "version_major": 2,
       "version_minor": 0
      },
      "text/plain": [
       "HBox(children=(IntProgress(value=0, max=2000), HTML(value=u'')))"
      ]
     },
     "metadata": {},
     "output_type": "display_data"
    },
    {
     "data": {
      "application/vnd.jupyter.widget-view+json": {
       "model_id": "d380c08d6a924212ba1ace92f8f0f523",
       "version_major": 2,
       "version_minor": 0
      },
      "text/plain": [
       "HBox(children=(IntProgress(value=0, max=2000), HTML(value=u'')))"
      ]
     },
     "metadata": {},
     "output_type": "display_data"
    },
    {
     "data": {
      "application/vnd.jupyter.widget-view+json": {
       "model_id": "f3174fadf5f843c7b2638e2d42cd8aba",
       "version_major": 2,
       "version_minor": 0
      },
      "text/plain": [
       "HBox(children=(IntProgress(value=0, max=2000), HTML(value=u'')))"
      ]
     },
     "metadata": {},
     "output_type": "display_data"
    },
    {
     "data": {
      "application/vnd.jupyter.widget-view+json": {
       "model_id": "7fbcb388a91747c18629f2f2fc086b32",
       "version_major": 2,
       "version_minor": 0
      },
      "text/plain": [
       "HBox(children=(IntProgress(value=0, max=2000), HTML(value=u'')))"
      ]
     },
     "metadata": {},
     "output_type": "display_data"
    },
    {
     "data": {
      "application/vnd.jupyter.widget-view+json": {
       "model_id": "a02fa4a511b94549a45ddf901cdf7431",
       "version_major": 2,
       "version_minor": 0
      },
      "text/plain": [
       "HBox(children=(IntProgress(value=0, max=2000), HTML(value=u'')))"
      ]
     },
     "metadata": {},
     "output_type": "display_data"
    },
    {
     "data": {
      "application/vnd.jupyter.widget-view+json": {
       "model_id": "4ce8ef0fc00f4719a4d882557f5e191d",
       "version_major": 2,
       "version_minor": 0
      },
      "text/plain": [
       "HBox(children=(IntProgress(value=0, max=2000), HTML(value=u'')))"
      ]
     },
     "metadata": {},
     "output_type": "display_data"
    },
    {
     "name": "stdout",
     "output_type": "stream",
     "text": [
      "\n",
      "\n",
      "\n",
      "\n",
      "\n",
      "\n",
      "\n",
      "\n",
      "\n",
      "\n",
      "\n",
      "\n",
      "\n",
      "\n",
      "\n",
      "\n"
     ]
    }
   ],
   "source": [
    "# solve in parallel\n",
    "pool = multiprocessing.Pool(NUM_THREAD)\n",
    "results = pool.map_async(PCN_MCMC_thread, EXPAN_COEF)\n",
    "\n",
    "pool.close()\n",
    "pool.join()"
   ]
  },
  {
   "cell_type": "code",
   "execution_count": 5,
   "metadata": {},
   "outputs": [],
   "source": [
    "from functools import reduce\n",
    "from itertools import groupby\n",
    "\n",
    "\n",
    "def reduceByKey(func, iterable):\n",
    "    \"\"\"Reduce by key.\n",
    "    Equivalent to the Spark counterpart\n",
    "    Inspired by http://stackoverflow.com/q/33648581/554319\n",
    "    1. Sort by key\n",
    "    2. Group by key yielding (key, grouper)\n",
    "    3. For each pair yield (key, reduce(func, last element of each grouper))\n",
    "    \"\"\"\n",
    "    get_first = lambda p: p[0]\n",
    "    get_second = lambda p: p[1]\n",
    "    # iterable.groupBy(_._1).map(l => (l._1, l._2.map(_._2).reduce(func)))\n",
    "    return map(\n",
    "        lambda l: (l[0], reduce(func, map(get_second, l[1]))),\n",
    "        groupby(sorted(iterable, key=get_first), get_first)\n",
    "    )"
   ]
  },
  {
   "cell_type": "code",
   "execution_count": 6,
   "metadata": {},
   "outputs": [],
   "source": [
    "res = results.get()"
   ]
  },
  {
   "cell_type": "code",
   "execution_count": 8,
   "metadata": {},
   "outputs": [
    {
     "data": {
      "text/plain": [
       "[('MCMC',\n",
       "  {1: {'accepted': 146, 'rejected': 1854},\n",
       "   3: {'accepted': 46, 'rejected': 1954},\n",
       "   5: {'accepted': 22, 'rejected': 1978},\n",
       "   7: {'accepted': 16, 'rejected': 1984},\n",
       "   9: {'accepted': 7, 'rejected': 1993},\n",
       "   11: {'accepted': 4, 'rejected': 1996},\n",
       "   13: {'accepted': 1, 'rejected': 1999},\n",
       "   15: {'accepted': 1, 'rejected': 1999}}),\n",
       " ('PCN',\n",
       "  {1: {'accepted': 96, 'rejected': 1904},\n",
       "   3: {'accepted': 97, 'rejected': 1903},\n",
       "   5: {'accepted': 100, 'rejected': 1900},\n",
       "   7: {'accepted': 100, 'rejected': 1900},\n",
       "   9: {'accepted': 102, 'rejected': 1898},\n",
       "   11: {'accepted': 79, 'rejected': 1921},\n",
       "   13: {'accepted': 92, 'rejected': 1908},\n",
       "   15: {'accepted': 91, 'rejected': 1909}})]"
      ]
     },
     "execution_count": 8,
     "metadata": {},
     "output_type": "execute_result"
    }
   ],
   "source": [
    "# get the results\n",
    "reduceByKey(lambda x, y: dict(x.items() + y.items()), res)"
   ]
  },
  {
   "cell_type": "markdown",
   "metadata": {},
   "source": [
    "# Testing"
   ]
  },
  {
   "cell_type": "code",
   "execution_count": null,
   "metadata": {},
   "outputs": [],
   "source": []
  }
 ],
 "metadata": {
  "kernelspec": {
   "display_name": "Python 2",
   "language": "python",
   "name": "python2"
  },
  "language_info": {
   "codemirror_mode": {
    "name": "ipython",
    "version": 2
   },
   "file_extension": ".py",
   "mimetype": "text/x-python",
   "name": "python",
   "nbconvert_exporter": "python",
   "pygments_lexer": "ipython2",
   "version": "2.7.13"
  }
 },
 "nbformat": 4,
 "nbformat_minor": 2
}
